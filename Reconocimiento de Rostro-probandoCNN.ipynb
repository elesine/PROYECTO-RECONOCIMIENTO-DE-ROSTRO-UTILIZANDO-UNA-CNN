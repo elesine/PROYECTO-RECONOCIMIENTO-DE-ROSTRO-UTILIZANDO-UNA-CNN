{
 "cells": [
  {
   "cell_type": "markdown",
   "metadata": {},
   "source": [
    "### Reconocimiento de Rostro"
   ]
  },
  {
   "cell_type": "code",
   "execution_count": null,
   "metadata": {},
   "outputs": [],
   "source": [
    "from keras.models import load_model\n",
    "import cv2\n",
    "import numpy as np"
   ]
  },
  {
   "cell_type": "code",
   "execution_count": null,
   "metadata": {},
   "outputs": [],
   "source": [
    "modelo = load_model('CNN/model-019.model')\n",
    "\n",
    "face_clsfr=cv2.CascadeClassifier('haarcascade_frontalface_default.xml')\n",
    "\n",
    "source=cv2.VideoCapture(0)\n",
    "\n",
    "#source=cv2.VideoCapture('VID_20201206_001148.mp4')\n",
    "\n",
    "labels_dict={0:'gretel',1:'Desconocido'}\n",
    "color_dict={0:(0,255,0),1:(0,0,255)}"
   ]
  },
  {
   "cell_type": "code",
   "execution_count": null,
   "metadata": {},
   "outputs": [],
   "source": [
    "from skimage.transform import resize\n",
    "import matplotlib.pyplot as plt\n",
    "\n",
    "while(True):\n",
    "\n",
    "    ret,img=source.read()\n",
    "    gray=cv2.cvtColor(img,cv2.COLOR_BGR2GRAY)\n",
    "    faces=face_clsfr.detectMultiScale(gray,1.3,5)  \n",
    "\n",
    "    for (x,y,w,h) in faces:\n",
    "    \n",
    "        face_img=gray[y:y+w,x:x+w]\n",
    "        resized=resize(face_img,(len(face_img),64,64,3))\n",
    "    \n",
    "        result=modelo.predict(resized)\n",
    "        label=np.argmax(result,axis=1)[0]\n",
    "        \n",
    "        cv2.putText(img,'{}'.format(label),(x,y-50),1,1.3,(86,155,35),1,cv2.LINE_AA)\n",
    "    \n",
    "        if label == 0: \n",
    "               # print(result[0][1])\n",
    "                cv2.putText(img,'{}'.format(labels_dict[label]),(x,y-25),2,1.1,(255,255,0),1,cv2.LINE_AA)\n",
    "                cv2.rectangle(img, (x,y),(x+w,y+h),(0,255,0),2)\n",
    "        #elif label == 1:\n",
    "        else:\n",
    "                cv2.putText(img,'{}'.format(labels_dict[label]),(x,y-20),2,0.8,(0,0,255),1,cv2.LINE_AA)\n",
    "                cv2.rectangle(img, (x,y),(x+w,y+h),(0,0,255),2)    \n",
    "        \n",
    "    cv2.imshow('LIVE',img)\n",
    "    key=cv2.waitKey(1)\n",
    "    \n",
    "    if(key==1):\n",
    "        break\n",
    "        \n",
    "cv2.destroyAllWindows()\n",
    "source.release()"
   ]
  },
  {
   "cell_type": "code",
   "execution_count": null,
   "metadata": {},
   "outputs": [],
   "source": []
  }
 ],
 "metadata": {
  "kernelspec": {
   "display_name": "Python 3",
   "language": "python",
   "name": "python3"
  },
  "language_info": {
   "codemirror_mode": {
    "name": "ipython",
    "version": 3
   },
   "file_extension": ".py",
   "mimetype": "text/x-python",
   "name": "python",
   "nbconvert_exporter": "python",
   "pygments_lexer": "ipython3",
   "version": "3.8.3"
  }
 },
 "nbformat": 4,
 "nbformat_minor": 4
}

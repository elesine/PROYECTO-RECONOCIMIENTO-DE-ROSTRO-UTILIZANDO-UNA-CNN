{
 "cells": [
  {
   "cell_type": "markdown",
   "metadata": {},
   "source": [
    "### Almacenando rostros detectados de una carpeta de imágenes"
   ]
  },
  {
   "cell_type": "code",
   "execution_count": 9,
   "metadata": {},
   "outputs": [],
   "source": [
    "import cv2\n",
    "import os\n",
    "\n",
    "imagesPath = \"C:/Users/USER/Documents/PROYECTO RECONOCIMIENTO DE ROSTRO/Recolector de Datos/Desconocidos\" # Cambia a la ruta donde hayas almacenado la carpeta con las imágenes\n",
    "imagesPathList = os.listdir(imagesPath)\n",
    "\n",
    "if not os.path.exists('Rostros encontrados'):\n",
    "    print('Carpeta creada: Rostros encontrados')\n",
    "    os.makedirs('Rostros encontrados')\n",
    "\n",
    "faceClassif = cv2.CascadeClassifier(cv2.data.haarcascades+'haarcascade_frontalface_default.xml')\n",
    "\n",
    "count = 0\n",
    "for imageName in imagesPathList:\n",
    "    image = cv2.imread(imagesPath+'/'+imageName)\n",
    "    imageAux = image.copy()\n",
    "    gray = cv2.cvtColor(image, cv2.COLOR_BGR2GRAY)\n",
    "    \n",
    "    faces = faceClassif.detectMultiScale(gray, 2.1, 1)\n",
    "\n",
    "    for (x,y,w,h) in faces:\n",
    "        cv2.rectangle(image, (x,y),(x+w,y+h),(128,0,255),2)\n",
    "    cv2.rectangle(image,(10,5),(450,25),(255,255,255),-1)\n",
    "\n",
    "    for (x,y,w,h) in faces:\n",
    "            rostro = imageAux[y:y+h,x:x+w]\n",
    "            rostro = cv2.resize(rostro,(150,150), interpolation=cv2.INTER_CUBIC)\n",
    "            #cv2.imshow('rostro',rostro)\n",
    "            cv2.waitKey(0)\n",
    "            cv2.imwrite('Rostros encontrados/rostro_{}.jpg'.format(count),rostro)\n",
    "            count = count +1\n",
    "\n",
    "cv2.destroyAllWindows()\n"
   ]
  },
  {
   "cell_type": "code",
   "execution_count": null,
   "metadata": {},
   "outputs": [],
   "source": []
  },
  {
   "cell_type": "code",
   "execution_count": null,
   "metadata": {},
   "outputs": [],
   "source": []
  }
 ],
 "metadata": {
  "kernelspec": {
   "display_name": "Python 3",
   "language": "python",
   "name": "python3"
  },
  "language_info": {
   "codemirror_mode": {
    "name": "ipython",
    "version": 3
   },
   "file_extension": ".py",
   "mimetype": "text/x-python",
   "name": "python",
   "nbconvert_exporter": "python",
   "pygments_lexer": "ipython3",
   "version": "3.8.3"
  }
 },
 "nbformat": 4,
 "nbformat_minor": 4
}

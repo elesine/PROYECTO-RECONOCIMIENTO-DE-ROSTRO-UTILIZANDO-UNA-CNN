{
 "cells": [
  {
   "cell_type": "markdown",
   "metadata": {},
   "source": [
    "### Capturando Rostros detectados de un video"
   ]
  },
  {
   "cell_type": "code",
   "execution_count": 35,
   "metadata": {},
   "outputs": [
    {
     "name": "stdout",
     "output_type": "stream",
     "text": [
      "detectando\n",
      "YA detectando\n",
      "FIN\n"
     ]
    }
   ],
   "source": [
    "  \n",
    "import cv2\n",
    "import os\n",
    "import imutils\n",
    "\n",
    "personName = 'Gretel'\n",
    "dataPath = 'C:/Users/USER/Documents/PROYECTO RECONOCIMIENTO DE ROSTRO/Recolector de Datos/' #Cambia a la ruta donde hayas almacenado Data\n",
    "personPath = dataPath + '/' + personName\n",
    "\n",
    "if not os.path.exists(personPath):\n",
    "    print('Carpeta creada: ',personPath)\n",
    "    os.makedirs(personPath)\n",
    "    \n",
    "cap = cv2.VideoCapture(0)\n",
    "#cap = cv2.VideoCapture(0,cv2.CAP_DSHOW)\n",
    "#cap = cv2.VideoCapture('VID_20201206_001148.mp4')\n",
    "print('detectando')\n",
    "\n",
    "#faceClassif = cv2.CascadeClassifier('C:/Users/USER/AppData/Local/Programs/Python/Python39/Lib/site-packages/cv2/data/haarcascade_frontalface_default.xml')\n",
    "faceClassif = cv2.CascadeClassifier(cv2.data.haarcascades+'haarcascade_frontalface_default.xml')\n",
    "\n",
    "print('YA detectando')\n",
    "count = 0\n",
    "\n",
    "while True:\n",
    "\n",
    "    ret, frame = cap.read()\n",
    "    if ret == False: break\n",
    "    frame =  imutils.resize(frame, width=640)\n",
    "    gray = cv2.cvtColor(frame, cv2.COLOR_BGR2GRAY)\n",
    "    auxFrame = frame.copy()\n",
    "                                      \n",
    "    faces = faceClassif.detectMultiScale(gray,1.2,5)   #(image, scaleFactor, minNeighbors)\n",
    "\n",
    "    for (x,y,w,h) in faces:\n",
    "        cv2.rectangle(frame, (x,y),(x+w,y+h),(0,255,0),2)\n",
    "        rostro = auxFrame[y:y+h,x:x+w]\n",
    "        rostro = cv2.resize(rostro,(150,150),interpolation=cv2.INTER_CUBIC)\n",
    "        cv2.imwrite(personPath + '/rotro_{}.jpg'.format(count),rostro)\n",
    "        count = count + 1\n",
    "    cv2.imshow('frame',frame)\n",
    "\n",
    "    k =  cv2.waitKey(1)\n",
    "    if k == 27 or count >= 350:\n",
    "        break\n",
    "print('FIN')\n",
    "\n",
    "cap.release()\n",
    "cv2.destroyAllWindows()\n"
   ]
  },
  {
   "cell_type": "code",
   "execution_count": null,
   "metadata": {},
   "outputs": [],
   "source": []
  },
  {
   "cell_type": "code",
   "execution_count": null,
   "metadata": {},
   "outputs": [],
   "source": []
  },
  {
   "cell_type": "code",
   "execution_count": null,
   "metadata": {},
   "outputs": [],
   "source": []
  }
 ],
 "metadata": {
  "kernelspec": {
   "display_name": "Python 3",
   "language": "python",
   "name": "python3"
  },
  "language_info": {
   "codemirror_mode": {
    "name": "ipython",
    "version": 3
   },
   "file_extension": ".py",
   "mimetype": "text/x-python",
   "name": "python",
   "nbconvert_exporter": "python",
   "pygments_lexer": "ipython3",
   "version": "3.8.3"
  }
 },
 "nbformat": 4,
 "nbformat_minor": 4
}
